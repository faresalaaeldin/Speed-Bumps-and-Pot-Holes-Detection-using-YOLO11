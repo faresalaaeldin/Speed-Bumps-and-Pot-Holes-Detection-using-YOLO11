{
 "cells": [
  {
   "cell_type": "code",
   "execution_count": 1,
   "metadata": {},
   "outputs": [],
   "source": [
    "from ultralytics import YOLO\n",
    "\n",
    "# Load a COCO-pretrained YOLO11n model\n",
    "model = YOLO(\"D:\\Projects\\Models\\YOLO\\YOLO11\\YOLO11m\\yolo11m.pt\")\n"
   ]
  },
  {
   "cell_type": "code",
   "execution_count": 2,
   "metadata": {},
   "outputs": [],
   "source": [
    "from torchvision import torch\n",
    "device = torch.device(\"cuda\")"
   ]
  },
  {
   "cell_type": "code",
   "execution_count": 3,
   "metadata": {},
   "outputs": [
    {
     "data": {
      "text/plain": [
       "device(type='cuda')"
      ]
     },
     "execution_count": 3,
     "metadata": {},
     "output_type": "execute_result"
    }
   ],
   "source": [
    "device"
   ]
  },
  {
   "cell_type": "code",
   "execution_count": 4,
   "metadata": {},
   "outputs": [
    {
     "name": "stdout",
     "output_type": "stream",
     "text": [
      "Ultralytics 8.3.146  Python-3.10.16 torch-2.7.0+cu128 CUDA:0 (NVIDIA GeForce RTX 4060 Laptop GPU, 8188MiB)\n",
      "\u001b[34m\u001b[1mengine\\trainer: \u001b[0magnostic_nms=False, amp=True, augment=False, auto_augment=randaugment, batch=64, bgr=0.0, box=7.5, cache=False, cfg=None, classes=None, close_mosaic=10, cls=0.5, conf=None, copy_paste=0.0, copy_paste_mode=flip, cos_lr=False, cutmix=0.0, data=../Data/roboflow/data.yaml, degrees=0.0, deterministic=True, device=0, dfl=1.5, dnn=False, dropout=0.0, dynamic=False, embed=None, epochs=50, erasing=0.4, exist_ok=True, fliplr=0.5, flipud=0.0, format=torchscript, fraction=1.0, freeze=None, half=False, hsv_h=0.015, hsv_s=0.7, hsv_v=0.4, imgsz=320, int8=False, iou=0.7, keras=False, kobj=1.0, line_width=None, lr0=0.01, lrf=0.01, mask_ratio=4, max_det=300, mixup=0.0, mode=train, model=D:\\Projects\\Models\\YOLO\\YOLO11\\YOLO11m\\yolo11m.pt, momentum=0.937, mosaic=1.0, multi_scale=False, name=train, nbs=64, nms=False, opset=None, optimize=False, optimizer=auto, overlap_mask=True, patience=15, perspective=0.0, plots=True, pose=12.0, pretrained=True, profile=False, project=../Data/roboflow/results, rect=False, resume=False, retina_masks=False, save=True, save_conf=False, save_crop=False, save_dir=..\\Data\\roboflow\\results\\train, save_frames=False, save_json=False, save_period=10, save_txt=False, scale=0.5, seed=42, shear=0.0, show=False, show_boxes=True, show_conf=True, show_labels=True, simplify=True, single_cls=False, source=None, split=val, stream_buffer=False, task=detect, time=None, tracker=botsort.yaml, translate=0.1, val=True, verbose=True, vid_stride=1, visualize=False, warmup_bias_lr=0.1, warmup_epochs=3.0, warmup_momentum=0.8, weight_decay=0.0005, workers=8, workspace=None\n",
      "Overriding model.yaml nc=80 with nc=1\n",
      "\n",
      "                   from  n    params  module                                       arguments                     \n",
      "  0                  -1  1      1856  ultralytics.nn.modules.conv.Conv             [3, 64, 3, 2]                 \n",
      "  1                  -1  1     73984  ultralytics.nn.modules.conv.Conv             [64, 128, 3, 2]               \n",
      "  2                  -1  1    111872  ultralytics.nn.modules.block.C3k2            [128, 256, 1, True, 0.25]     \n",
      "  3                  -1  1    590336  ultralytics.nn.modules.conv.Conv             [256, 256, 3, 2]              \n",
      "  4                  -1  1    444928  ultralytics.nn.modules.block.C3k2            [256, 512, 1, True, 0.25]     \n",
      "  5                  -1  1   2360320  ultralytics.nn.modules.conv.Conv             [512, 512, 3, 2]              \n",
      "  6                  -1  1   1380352  ultralytics.nn.modules.block.C3k2            [512, 512, 1, True]           \n",
      "  7                  -1  1   2360320  ultralytics.nn.modules.conv.Conv             [512, 512, 3, 2]              \n",
      "  8                  -1  1   1380352  ultralytics.nn.modules.block.C3k2            [512, 512, 1, True]           \n",
      "  9                  -1  1    656896  ultralytics.nn.modules.block.SPPF            [512, 512, 5]                 \n",
      " 10                  -1  1    990976  ultralytics.nn.modules.block.C2PSA           [512, 512, 1]                 \n",
      " 11                  -1  1         0  torch.nn.modules.upsampling.Upsample         [None, 2, 'nearest']          \n",
      " 12             [-1, 6]  1         0  ultralytics.nn.modules.conv.Concat           [1]                           \n",
      " 13                  -1  1   1642496  ultralytics.nn.modules.block.C3k2            [1024, 512, 1, True]          \n",
      " 14                  -1  1         0  torch.nn.modules.upsampling.Upsample         [None, 2, 'nearest']          \n",
      " 15             [-1, 4]  1         0  ultralytics.nn.modules.conv.Concat           [1]                           \n",
      " 16                  -1  1    542720  ultralytics.nn.modules.block.C3k2            [1024, 256, 1, True]          \n",
      " 17                  -1  1    590336  ultralytics.nn.modules.conv.Conv             [256, 256, 3, 2]              \n",
      " 18            [-1, 13]  1         0  ultralytics.nn.modules.conv.Concat           [1]                           \n",
      " 19                  -1  1   1511424  ultralytics.nn.modules.block.C3k2            [768, 512, 1, True]           \n",
      " 20                  -1  1   2360320  ultralytics.nn.modules.conv.Conv             [512, 512, 3, 2]              \n",
      " 21            [-1, 10]  1         0  ultralytics.nn.modules.conv.Concat           [1]                           \n",
      " 22                  -1  1   1642496  ultralytics.nn.modules.block.C3k2            [1024, 512, 1, True]          \n",
      " 23        [16, 19, 22]  1   1411795  ultralytics.nn.modules.head.Detect           [1, [256, 512, 512]]          \n",
      "YOLO11m summary: 231 layers, 20,053,779 parameters, 20,053,763 gradients, 68.2 GFLOPs\n",
      "\n",
      "Transferred 643/649 items from pretrained weights\n",
      "Freezing layer 'model.23.dfl.conv.weight'\n",
      "\u001b[34m\u001b[1mAMP: \u001b[0mrunning Automatic Mixed Precision (AMP) checks...\n",
      "Downloading https://github.com/ultralytics/assets/releases/download/v8.3.0/yolo11n.pt to 'yolo11n.pt'...\n"
     ]
    },
    {
     "name": "stderr",
     "output_type": "stream",
     "text": [
      "100%|██████████| 5.35M/5.35M [00:14<00:00, 375kB/s]\n"
     ]
    },
    {
     "name": "stdout",
     "output_type": "stream",
     "text": [
      "\u001b[34m\u001b[1mAMP: \u001b[0mchecks passed \n",
      "\u001b[34m\u001b[1mtrain: \u001b[0mFast image access  (ping: 0.10.1 ms, read: 120.030.9 MB/s, size: 53.3 KB)\n"
     ]
    },
    {
     "name": "stderr",
     "output_type": "stream",
     "text": [
      "\u001b[34m\u001b[1mtrain: \u001b[0mScanning D:\\Projects\\github\\Speed Bumps and Pot Holes Detection using YOLO11\\Speed-Bumps-and-Pot-Holes-Detection-using-YOLO11\\Data\\roboflow\\train\\labels.cache... 10822 images, 0 backgrounds, 0 corrupt: 100%|██████████| 10822/10822 [00:00<?, ?it/s]"
     ]
    },
    {
     "name": "stdout",
     "output_type": "stream",
     "text": [
      "\u001b[34m\u001b[1mtrain: \u001b[0mD:\\Projects\\github\\Speed Bumps and Pot Holes Detection using YOLO11\\Speed-Bumps-and-Pot-Holes-Detection-using-YOLO11\\Data\\roboflow\\train\\images\\Japan_001008_jpg.rf.61479a7122940c125f6a31f79409a15a.jpg: 1 duplicate labels removed\n",
      "\u001b[34m\u001b[1mtrain: \u001b[0mD:\\Projects\\github\\Speed Bumps and Pot Holes Detection using YOLO11\\Speed-Bumps-and-Pot-Holes-Detection-using-YOLO11\\Data\\roboflow\\train\\images\\Japan_001950_jpg.rf.b664d5f2e3f2ec80dfb94651c61a729e.jpg: 1 duplicate labels removed\n",
      "\u001b[34m\u001b[1mtrain: \u001b[0mD:\\Projects\\github\\Speed Bumps and Pot Holes Detection using YOLO11\\Speed-Bumps-and-Pot-Holes-Detection-using-YOLO11\\Data\\roboflow\\train\\images\\Japan_003494_jpg.rf.a3086e00698ecda0f1e6676761e45007.jpg: 1 duplicate labels removed\n",
      "\u001b[34m\u001b[1mtrain: \u001b[0mD:\\Projects\\github\\Speed Bumps and Pot Holes Detection using YOLO11\\Speed-Bumps-and-Pot-Holes-Detection-using-YOLO11\\Data\\roboflow\\train\\images\\Japan_005478_jpg.rf.3a634be02fca6106452796abddf10706.jpg: 1 duplicate labels removed\n",
      "\u001b[34m\u001b[1mtrain: \u001b[0mD:\\Projects\\github\\Speed Bumps and Pot Holes Detection using YOLO11\\Speed-Bumps-and-Pot-Holes-Detection-using-YOLO11\\Data\\roboflow\\train\\images\\Japan_006916_jpg.rf.43954584f4d6d094ff04027d3942a975.jpg: 1 duplicate labels removed\n",
      "\u001b[34m\u001b[1mtrain: \u001b[0mD:\\Projects\\github\\Speed Bumps and Pot Holes Detection using YOLO11\\Speed-Bumps-and-Pot-Holes-Detection-using-YOLO11\\Data\\roboflow\\train\\images\\Japan_007271_jpg.rf.446a2a407fb3287fdb1fc23e0c09e905.jpg: 1 duplicate labels removed\n",
      "\u001b[34m\u001b[1mtrain: \u001b[0mD:\\Projects\\github\\Speed Bumps and Pot Holes Detection using YOLO11\\Speed-Bumps-and-Pot-Holes-Detection-using-YOLO11\\Data\\roboflow\\train\\images\\Japan_008673_jpg.rf.f499eb2565d49707828520c499fc4875.jpg: 1 duplicate labels removed\n",
      "\u001b[34m\u001b[1mtrain: \u001b[0mD:\\Projects\\github\\Speed Bumps and Pot Holes Detection using YOLO11\\Speed-Bumps-and-Pot-Holes-Detection-using-YOLO11\\Data\\roboflow\\train\\images\\Japan_008728_jpg.rf.65c0465b64dfc72b7b1f16129af8640c.jpg: 1 duplicate labels removed\n",
      "\u001b[34m\u001b[1mtrain: \u001b[0mD:\\Projects\\github\\Speed Bumps and Pot Holes Detection using YOLO11\\Speed-Bumps-and-Pot-Holes-Detection-using-YOLO11\\Data\\roboflow\\train\\images\\Japan_012446_jpg.rf.fbefbb7f26dd65a3154c5db10f7d2590.jpg: 1 duplicate labels removed\n"
     ]
    },
    {
     "name": "stderr",
     "output_type": "stream",
     "text": [
      "\n"
     ]
    },
    {
     "name": "stdout",
     "output_type": "stream",
     "text": [
      "WARNING Box and segment counts should be equal, but got len(segments) = 7599, len(boxes) = 28844. To resolve this only boxes will be used and all segments will be removed. To avoid this please supply either a detect or segment dataset, not a detect-segment mixed dataset.\n",
      "\u001b[34m\u001b[1mval: \u001b[0mFast image access  (ping: 0.10.0 ms, read: 3.21.1 MB/s, size: 50.9 KB)\n"
     ]
    },
    {
     "name": "stderr",
     "output_type": "stream",
     "text": [
      "\u001b[34m\u001b[1mval: \u001b[0mScanning D:\\Projects\\github\\Speed Bumps and Pot Holes Detection using YOLO11\\Speed-Bumps-and-Pot-Holes-Detection-using-YOLO11\\Data\\roboflow\\valid\\labels.cache... 3096 images, 0 backgrounds, 0 corrupt: 100%|██████████| 3096/3096 [00:00<?, ?it/s]"
     ]
    },
    {
     "name": "stdout",
     "output_type": "stream",
     "text": [
      "\u001b[34m\u001b[1mval: \u001b[0mD:\\Projects\\github\\Speed Bumps and Pot Holes Detection using YOLO11\\Speed-Bumps-and-Pot-Holes-Detection-using-YOLO11\\Data\\roboflow\\valid\\images\\Japan_001078_jpg.rf.8f19de6e7288b8a8bed4cd36f6d000a3.jpg: 1 duplicate labels removed\n",
      "\u001b[34m\u001b[1mval: \u001b[0mD:\\Projects\\github\\Speed Bumps and Pot Holes Detection using YOLO11\\Speed-Bumps-and-Pot-Holes-Detection-using-YOLO11\\Data\\roboflow\\valid\\images\\Japan_002908_jpg.rf.76ec03ead15d11364b8acc281834bfdc.jpg: 1 duplicate labels removed\n",
      "\u001b[34m\u001b[1mval: \u001b[0mD:\\Projects\\github\\Speed Bumps and Pot Holes Detection using YOLO11\\Speed-Bumps-and-Pot-Holes-Detection-using-YOLO11\\Data\\roboflow\\valid\\images\\Japan_002934_jpg.rf.386583147a3ee86c2f7f1e8f4ee763e6.jpg: 1 duplicate labels removed\n",
      "\u001b[34m\u001b[1mval: \u001b[0mD:\\Projects\\github\\Speed Bumps and Pot Holes Detection using YOLO11\\Speed-Bumps-and-Pot-Holes-Detection-using-YOLO11\\Data\\roboflow\\valid\\images\\Japan_005685_jpg.rf.7ae1b332890243e8114b2fe6156b1328.jpg: 1 duplicate labels removed\n",
      "\u001b[34m\u001b[1mval: \u001b[0mD:\\Projects\\github\\Speed Bumps and Pot Holes Detection using YOLO11\\Speed-Bumps-and-Pot-Holes-Detection-using-YOLO11\\Data\\roboflow\\valid\\images\\Japan_006215_jpg.rf.c38e57eaddc844484f0a3748a78c7449.jpg: 1 duplicate labels removed\n",
      "\u001b[34m\u001b[1mval: \u001b[0mD:\\Projects\\github\\Speed Bumps and Pot Holes Detection using YOLO11\\Speed-Bumps-and-Pot-Holes-Detection-using-YOLO11\\Data\\roboflow\\valid\\images\\Japan_011091_jpg.rf.642c8e6958a894300b67b472bf1f9f53.jpg: 1 duplicate labels removed\n",
      "WARNING Box and segment counts should be equal, but got len(segments) = 2224, len(boxes) = 8404. To resolve this only boxes will be used and all segments will be removed. To avoid this please supply either a detect or segment dataset, not a detect-segment mixed dataset.\n"
     ]
    },
    {
     "name": "stderr",
     "output_type": "stream",
     "text": [
      "\n"
     ]
    },
    {
     "name": "stdout",
     "output_type": "stream",
     "text": [
      "Plotting labels to ..\\Data\\roboflow\\results\\train\\labels.jpg... \n"
     ]
    },
    {
     "ename": "",
     "evalue": "",
     "output_type": "error",
     "traceback": [
      "\u001b[1;31mThe Kernel crashed while executing code in the current cell or a previous cell. \n",
      "\u001b[1;31mPlease review the code in the cell(s) to identify a possible cause of the failure. \n",
      "\u001b[1;31mClick <a href='https://aka.ms/vscodeJupyterKernelCrash'>here</a> for more info. \n",
      "\u001b[1;31mView Jupyter <a href='command:jupyter.viewOutput'>log</a> for further details."
     ]
    }
   ],
   "source": [
    "# Train the model on the dataset\n",
    "results = model.train(\n",
    "    data=\"../Data/roboflow/data.yaml\",  # Using relative path from Notebooks directory\n",
    "    epochs=50,\n",
    "    imgsz=320,\n",
    "    device=0,  # Use GPU\n",
    "    batch=64,    # Reduce batch size to prevent memory issues \n",
    "    patience=15, # Early stopping patience\n",
    "    save=True,\n",
    "    save_period=10,  # Save checkpoint every 10 epochs\n",
    "    project=\"../Data/roboflow/results\",  # Save results in the roboflow directory\n",
    "    exist_ok=True,\n",
    "    pretrained=True,\n",
    "    optimizer=\"auto\",\n",
    "    verbose=True,\n",
    "    seed=42,\n",
    "    deterministic=True\n",
    ")"
   ]
  },
  {
   "cell_type": "code",
   "execution_count": null,
   "metadata": {},
   "outputs": [],
   "source": [
    "best_model = YOLO(r\"runs\\detect\\train\\weights\\best.pt\")"
   ]
  },
  {
   "cell_type": "code",
   "execution_count": null,
   "metadata": {},
   "outputs": [],
   "source": [
    "result = best_model.predict(\n",
    "    r\"D:\\Projects\\github\\Speed Bumps and Pot Holes Detection using YOLO11\\Speed-Bumps-and-Pot-Holes-Detection-using-YOLO11\\Data\\roboflow\\test\\images\\images21_jpg.rf.5bd752ccc5cf9e9d5b93ad95538d6f89.jpg\"\n",
    ")"
   ]
  },
  {
   "cell_type": "code",
   "execution_count": null,
   "metadata": {},
   "outputs": [],
   "source": [
    "result"
   ]
  },
  {
   "cell_type": "code",
   "execution_count": null,
   "metadata": {},
   "outputs": [],
   "source": [
    "from PIL import Image\n",
    "\n",
    "img = result.plot()"
   ]
  },
  {
   "cell_type": "code",
   "execution_count": null,
   "metadata": {},
   "outputs": [],
   "source": [
    "# Evaluate the model on the test dataset\n",
    "results = model.val(\n",
    "    data=\"D:/Projects/github/Speed Bumps and Pot Holes Detection using YOLO11/Speed-Bumps-and-Pot-Holes-Detection-using-YOLO11/Data/roboflow/data\n",
    ")"
   ]
  },
  {
   "cell_type": "code",
   "execution_count": null,
   "metadata": {},
   "outputs": [],
   "source": [
    "\n",
    "# Run inference with the YOLO11n model on the 'bus.jpg' image\n",
    "results = model(\"path/to/bus.jpg\")"
   ]
  },
  {
   "cell_type": "code",
   "execution_count": 1,
   "metadata": {},
   "outputs": [
    {
     "name": "stdout",
     "output_type": "stream",
     "text": [
      "Name: torch\n",
      "Version: 2.7.0+cu128\n",
      "Summary: Tensors and Dynamic neural networks in Python with strong GPU acceleration\n",
      "Home-page: https://pytorch.org/\n",
      "Author: PyTorch Team\n",
      "Author-email: packages@pytorch.org\n",
      "License: BSD-3-Clause\n",
      "Location: c:\\users\\fares\\anaconda3\\envs\\cv_env\\lib\\site-packages\n",
      "Requires: filelock, fsspec, jinja2, networkx, sympy, typing-extensions\n",
      "Required-by: torchaudio, torchvision, ultralytics, ultralytics-thop\n",
      "Note: you may need to restart the kernel to use updated packages.\n"
     ]
    }
   ],
   "source": [
    "pip show torch"
   ]
  },
  {
   "cell_type": "code",
   "execution_count": 3,
   "metadata": {},
   "outputs": [
    {
     "ename": "NameError",
     "evalue": "name 'nvidia' is not defined",
     "output_type": "error",
     "traceback": [
      "\u001b[1;31m---------------------------------------------------------------------------\u001b[0m",
      "\u001b[1;31mNameError\u001b[0m                                 Traceback (most recent call last)",
      "Cell \u001b[1;32mIn[3], line 1\u001b[0m\n\u001b[1;32m----> 1\u001b[0m \u001b[43mnvidia\u001b[49m\u001b[38;5;241m-\u001b[39msmi\n",
      "\u001b[1;31mNameError\u001b[0m: name 'nvidia' is not defined"
     ]
    }
   ],
   "source": [
    "nvidia-smi"
   ]
  },
  {
   "cell_type": "code",
   "execution_count": 4,
   "metadata": {},
   "outputs": [
    {
     "name": "stdout",
     "output_type": "stream",
     "text": [
      "CUDA available: True\n",
      "CUDA device count: 1\n",
      "Current CUDA device: 0\n",
      "CUDA device name: NVIDIA GeForce RTX 4060 Laptop GPU\n"
     ]
    }
   ],
   "source": [
    "import torch\n",
    "print(\"CUDA available:\", torch.cuda.is_available())\n",
    "print(\"CUDA device count:\", torch.cuda.device_count())\n",
    "if torch.cuda.is_available():\n",
    "    print(\"Current CUDA device:\", torch.cuda.current_device())\n",
    "    print(\"CUDA device name:\", torch.cuda.get_device_name(0))"
   ]
  },
  {
   "cell_type": "code",
   "execution_count": 2,
   "metadata": {},
   "outputs": [
    {
     "ename": "NameError",
     "evalue": "name 'model' is not defined",
     "output_type": "error",
     "traceback": [
      "\u001b[1;31m---------------------------------------------------------------------------\u001b[0m",
      "\u001b[1;31mNameError\u001b[0m                                 Traceback (most recent call last)",
      "Cell \u001b[1;32mIn[2], line 1\u001b[0m\n\u001b[1;32m----> 1\u001b[0m results \u001b[38;5;241m=\u001b[39m \u001b[43mmodel\u001b[49m\u001b[38;5;241m.\u001b[39mtrain(\n\u001b[0;32m      2\u001b[0m     data\u001b[38;5;241m=\u001b[39m\u001b[38;5;124m\"\u001b[39m\u001b[38;5;124mD:/Projects/github/Speed Bumps and Pot Holes Detection using YOLO11/Speed-Bumps-and-Pot-Holes-Detection-using-YOLO11/Data/roboflow/data.yaml\u001b[39m\u001b[38;5;124m\"\u001b[39m,\n\u001b[0;32m      3\u001b[0m     epochs\u001b[38;5;241m=\u001b[39m\u001b[38;5;241m70\u001b[39m,\n\u001b[0;32m      4\u001b[0m     imgsz\u001b[38;5;241m=\u001b[39m\u001b[38;5;241m320\u001b[39m,\n\u001b[0;32m      5\u001b[0m     device\u001b[38;5;241m=\u001b[39m\u001b[38;5;241m0\u001b[39m,  \u001b[38;5;66;03m# Changed from 'gpu' to 0\u001b[39;00m\n\u001b[0;32m      6\u001b[0m     name\u001b[38;5;241m=\u001b[39m\u001b[38;5;124m'\u001b[39m\u001b[38;5;124myolov11s\u001b[39m\u001b[38;5;124m'\u001b[39m,\n\u001b[0;32m      7\u001b[0m     exist_ok\u001b[38;5;241m=\u001b[39m\u001b[38;5;28;01mTrue\u001b[39;00m,\n\u001b[0;32m      8\u001b[0m     verbose\u001b[38;5;241m=\u001b[39m\u001b[38;5;28;01mTrue\u001b[39;00m,\n\u001b[0;32m      9\u001b[0m     project\u001b[38;5;241m=\u001b[39m\u001b[38;5;124m'\u001b[39m\u001b[38;5;124mD:/Projects/github/Speed Bumps and Pot Holes Detection using YOLO11/Speed-Bumps-and-Pot-Holes-Detection-using-YOLO11/Data/roboflow/results\u001b[39m\u001b[38;5;124m'\u001b[39m\n\u001b[0;32m     10\u001b[0m )\n",
      "\u001b[1;31mNameError\u001b[0m: name 'model' is not defined"
     ]
    }
   ],
   "source": [
    "results = model.train(\n",
    "    data=\"D:/Projects/github/Speed Bumps and Pot Holes Detection using YOLO11/Speed-Bumps-and-Pot-Holes-Detection-using-YOLO11/Data/roboflow/data.yaml\",\n",
    "    epochs=70,\n",
    "    imgsz=320,\n",
    "    device=0,  # Changed from 'gpu' to 0\n",
    "    name='yolov11s',\n",
    "    exist_ok=True,\n",
    "    verbose=True,\n",
    "    project='D:/Projects/github/Speed Bumps and Pot Holes Detection using YOLO11/Speed-Bumps-and-Pot-Holes-Detection-using-YOLO11/Data/roboflow/results'\n",
    ")"
   ]
  },
  {
   "cell_type": "code",
   "execution_count": null,
   "metadata": {},
   "outputs": [],
   "source": []
  }
 ],
 "metadata": {
  "kernelspec": {
   "display_name": "nlp_env",
   "language": "python",
   "name": "python3"
  },
  "language_info": {
   "codemirror_mode": {
    "name": "ipython",
    "version": 3
   },
   "file_extension": ".py",
   "mimetype": "text/x-python",
   "name": "python",
   "nbconvert_exporter": "python",
   "pygments_lexer": "ipython3",
   "version": "3.10.16"
  }
 },
 "nbformat": 4,
 "nbformat_minor": 2
}
